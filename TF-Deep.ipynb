{
 "cells": [
  {
   "cell_type": "markdown",
   "metadata": {},
   "source": [
    "### Kaggle.com – Digits Recognition – Deep Version\n",
    "https://www.kaggle.com/c/digit-recognizer"
   ]
  },
  {
   "cell_type": "code",
   "execution_count": 1,
   "metadata": {
    "collapsed": true
   },
   "outputs": [],
   "source": [
    "import tensorflow as tf\n",
    "import numpy as np\n",
    "import matplotlib.pyplot as plt\n",
    "%matplotlib inline"
   ]
  },
  {
   "cell_type": "markdown",
   "metadata": {},
   "source": [
    "#### Model"
   ]
  },
  {
   "cell_type": "code",
   "execution_count": 2,
   "metadata": {
    "collapsed": false
   },
   "outputs": [],
   "source": [
    "class DigitsModel(object):\n",
    "    \n",
    "    def _create_weight_variable(self, shape):\n",
    "        initial = tf.truncated_normal(shape, stddev=0.1)\n",
    "        return tf.Variable(initial)\n",
    "    \n",
    "    def _create_bias_variable(self, shape):\n",
    "        initial = tf.constant(0.1, shape=shape)\n",
    "        return tf.Variable(initial)\n",
    "    \n",
    "    def _create_conv2d(self, x, W):\n",
    "        return tf.nn.conv2d(x, W, strides=[1, 1, 1, 1], padding='SAME')\n",
    "    \n",
    "    def _create_max_pool_2x2(self, x):\n",
    "        return tf.nn.max_pool(x, ksize=[1, 2, 2, 1], strides=[1, 2, 2, 1], padding='SAME')\n",
    "    \n",
    "    def _init_model(self):    \n",
    "        # input features\n",
    "        self._x = tf.placeholder(tf.float32, shape=[None, 784])\n",
    "        \n",
    "        # reshape features to 2d shape\n",
    "        self._x_image = tf.reshape(self._x, [-1,28,28,1])\n",
    "        \n",
    "        # known labels\n",
    "        self._y_ = tf.placeholder(tf.float32, [None, 10])\n",
    "        \n",
    "        # layer 1\n",
    "        self._W_conv_1 = self._create_weight_variable([5, 5, 1, 32])\n",
    "        self._b_conv_1 = self._create_bias_variable([32])\n",
    "        self._conv_1 = tf.nn.relu(self._create_conv2d(self._x_image, self._W_conv_1) + self._b_conv_1)\n",
    "        self._pool_1 = self._create_max_pool_2x2(self._conv_1)\n",
    "        \n",
    "        # layer 2\n",
    "        self._W_conv_2 = self._create_weight_variable([5, 5, 32, 64])\n",
    "        self._b_conv_2 = self._create_bias_variable([64])\n",
    "        self._conv_2 = tf.nn.relu(self._create_conv2d(self._pool_1, self._W_conv_2) + self._b_conv_2)\n",
    "        self._pool_2 = self._create_max_pool_2x2(self._conv_2)\n",
    "        \n",
    "        # fully-connected layer\n",
    "        # connects 3136 features (7*7*64) from _pool2 to 1024 _fc nodes\n",
    "        self._W_fc_1 = self._create_weight_variable([7 * 7 * 64, 1024])\n",
    "        self._b_fc_1 = self._create_bias_variable([1024])\n",
    "        self._pool_2_flattened = tf.reshape(self._pool_2, [-1, 7 * 7* 64])\n",
    "        self._fc_1 = tf.nn.relu(tf.matmul(self._pool_2_flattened, self._W_fc_1) + self._b_fc_1)\n",
    "        \n",
    "        # dropout layer\n",
    "        self._keep_prob_1 = tf.placeholder(tf.float32) # how many features to keep (should be 1. in inference)\n",
    "        self._dropout_1 = tf.nn.dropout(self._fc_1, self._keep_prob_1)\n",
    "        \n",
    "        # readout layer\n",
    "        # 1024 features from _fc+_dropout -> 10 outputs\n",
    "        self._W_readout = self._create_weight_variable([1024, 10])\n",
    "        self._b_readout = self._create_bias_variable([10])\n",
    "        self._readout = tf.nn.softmax(tf.matmul(self._dropout_1, self._W_readout) + self._b_readout)\n",
    "        \n",
    "    def _init_training(self):\n",
    "        # loss function\n",
    "        self._loss_fn = tf.reduce_mean(-tf.reduce_sum(self._y_ * tf.log(self._readout), reduction_indices=[1]))\n",
    "        \n",
    "        # ADAM solver, 0.0001 rate\n",
    "        self._train_step = tf.train.AdamOptimizer(1e-4).minimize(self._loss_fn)\n",
    "        \n",
    "        # match predicted values against the correct ones\n",
    "        self._prediction_matches = tf.equal(tf.argmax(self._readout, 1), tf.argmax(self._y_, 1))\n",
    "\n",
    "        # accuracy metric\n",
    "        self._accuracy = tf.reduce_mean(tf.cast(self._prediction_matches, tf.float32))\n",
    "    \n",
    "    def init(self):\n",
    "        self._init_model()\n",
    "        self._init_training()\n",
    "        \n",
    "        # init session\n",
    "        i = tf.initialize_all_variables()\n",
    "        self._sess = tf.Session()\n",
    "        self._sess.run(i)\n",
    "        \n",
    "    def train_step(self, features_batch, labels_batch):\n",
    "        feed_dict = {\n",
    "                        self._x: features_batch,\n",
    "                        self._y_: labels_batch,\n",
    "                        self._keep_prob_1: 0.5\n",
    "                    }\n",
    "        self._sess.run(self._train_step, feed_dict=feed_dict)\n",
    "        \n",
    "    def get_accuracy(self, features, labels):\n",
    "        feed_dict = {\n",
    "                        self._x: features,\n",
    "                        self._y_: labels,\n",
    "                        self._keep_prob_1: 1.0\n",
    "                    }\n",
    "        return self._sess.run(self._accuracy, feed_dict=feed_dict)  \n",
    "    \n",
    "        \n",
    "    def get_readout(self, features):\n",
    "        feed_dict = {\n",
    "                        self._x: features,\n",
    "                        self._keep_prob_1: 1.0\n",
    "                    }\n",
    "        return self._sess.run(self._readout, feed_dict=feed_dict)  "
   ]
  },
  {
   "cell_type": "markdown",
   "metadata": {},
   "source": [
    "#### Data Manipulation Helpers"
   ]
  },
  {
   "cell_type": "code",
   "execution_count": 3,
   "metadata": {
    "collapsed": true
   },
   "outputs": [],
   "source": [
    "# read features\n",
    "def read_features_from_csv(filename, usecols=range(1,785)):\n",
    "    features = np.genfromtxt(filename, delimiter=',', skip_header=1, usecols=usecols, dtype=np.float32)\n",
    "    features = np.divide(features, 255.0) # scale 0..255 to 0..1\n",
    "    return features\n",
    "\n",
    "# read labels and convert them to 1-hot vectors\n",
    "def read_labels_from_csv(filename):\n",
    "    labels_orig = np.genfromtxt(filename, delimiter=',', skip_header=1, usecols=0, dtype=np.int)\n",
    "    labels = np.zeros([len(labels_orig), 10])\n",
    "    labels[np.arange(len(labels_orig)), labels_orig] = 1\n",
    "    labels = labels.astype(np.float32)\n",
    "    return labels\n",
    "\n",
    "# generate batches\n",
    "def generate_batch(features, labels, batch_size):\n",
    "    batch_indexes = np.random.random_integers(0, len(features) - 1, batch_size)\n",
    "    batch_features = features[batch_indexes]\n",
    "    batch_labels = labels[batch_indexes]\n",
    "    return (batch_features, batch_labels)"
   ]
  },
  {
   "cell_type": "markdown",
   "metadata": {},
   "source": [
    "#### Prepare Data"
   ]
  },
  {
   "cell_type": "code",
   "execution_count": 4,
   "metadata": {
    "collapsed": true
   },
   "outputs": [],
   "source": [
    "# load data\n",
    "features = read_features_from_csv('train.csv')\n",
    "labels = read_labels_from_csv('train.csv')"
   ]
  },
  {
   "cell_type": "code",
   "execution_count": 23,
   "metadata": {
    "collapsed": true
   },
   "outputs": [],
   "source": [
    "# training params\n",
    "BATCH_SIZE = 50\n",
    "TRAIN_SPLIT = 0.85 # training/validation split\n",
    "TRAINING_STEPS = int(len(features) * TRAIN_SPLIT / BATCH_SIZE * 33)"
   ]
  },
  {
   "cell_type": "code",
   "execution_count": 24,
   "metadata": {
    "collapsed": false
   },
   "outputs": [],
   "source": [
    "# split data into training and validation sets\n",
    "train_samples = int(len(features) / (1 / TRAIN_SPLIT))\n",
    "train_features = features[:train_samples]\n",
    "train_labels = labels[:train_samples]\n",
    "validation_features = features[train_samples:]\n",
    "validation_labels = labels[train_samples:]"
   ]
  },
  {
   "cell_type": "markdown",
   "metadata": {},
   "source": [
    "#### Run Training"
   ]
  },
  {
   "cell_type": "code",
   "execution_count": 25,
   "metadata": {
    "collapsed": true
   },
   "outputs": [],
   "source": [
    "model = DigitsModel()\n",
    "model.init()"
   ]
  },
  {
   "cell_type": "code",
   "execution_count": 26,
   "metadata": {
    "collapsed": false
   },
   "outputs": [
    {
     "name": "stdout",
     "output_type": "stream",
     "text": [
      "step 1 of 23562 / validation accuracy: 0.136667\n",
      "step 714 of 23562 / validation accuracy: 0.949365\n",
      "step 1428 of 23562 / validation accuracy: 0.961746\n",
      "step 2142 of 23562 / validation accuracy: 0.97254\n",
      "step 2856 of 23562 / validation accuracy: 0.979524\n",
      "step 3570 of 23562 / validation accuracy: 0.981429\n",
      "step 4284 of 23562 / validation accuracy: 0.980635\n",
      "step 4998 of 23562 / validation accuracy: 0.983016\n",
      "step 5712 of 23562 / validation accuracy: 0.984762\n",
      "step 6426 of 23562 / validation accuracy: 0.985079\n",
      "step 7140 of 23562 / validation accuracy: 0.986984\n",
      "step 7854 of 23562 / validation accuracy: 0.985714\n",
      "step 8568 of 23562 / validation accuracy: 0.989524\n",
      "step 9282 of 23562 / validation accuracy: 0.987619\n",
      "step 9996 of 23562 / validation accuracy: 0.986349\n",
      "step 10710 of 23562 / validation accuracy: 0.987937\n",
      "step 11424 of 23562 / validation accuracy: 0.987619\n",
      "step 12138 of 23562 / validation accuracy: 0.988413\n",
      "step 12852 of 23562 / validation accuracy: 0.987302\n",
      "step 13566 of 23562 / validation accuracy: 0.986667\n",
      "step 14280 of 23562 / validation accuracy: 0.989048\n",
      "step 14994 of 23562 / validation accuracy: 0.987937\n",
      "step 15708 of 23562 / validation accuracy: 0.987302\n",
      "step 16422 of 23562 / validation accuracy: 0.988889\n",
      "step 17136 of 23562 / validation accuracy: 0.988889\n",
      "step 17850 of 23562 / validation accuracy: 0.98873\n",
      "step 18564 of 23562 / validation accuracy: 0.988889\n",
      "step 19278 of 23562 / validation accuracy: 0.990317\n",
      "step 19992 of 23562 / validation accuracy: 0.990318\n",
      "step 20706 of 23562 / validation accuracy: 0.989524\n",
      "step 21420 of 23562 / validation accuracy: 0.991111\n",
      "step 22134 of 23562 / validation accuracy: 0.99\n",
      "step 22848 of 23562 / validation accuracy: 0.990318\n",
      "step 23562 of 23562 / validation accuracy: 0.990476\n"
     ]
    }
   ],
   "source": [
    "accuracy_history = []\n",
    "\n",
    "for i in range(TRAINING_STEPS):  \n",
    "    if i == 0 or (i + 1) % (TRAINING_STEPS // 33) == 0 or (i + 1) == TRAINING_STEPS:\n",
    "        accuracy = model.get_accuracy(features=validation_features, labels=validation_labels)\n",
    "        accuracy_history.append(accuracy)\n",
    "        print 'step', i + 1, 'of', TRAINING_STEPS, '/ validation accuracy:', accuracy\n",
    "        \n",
    "    batch_features, batch_labels = generate_batch(train_features, train_labels, BATCH_SIZE)\n",
    "    model.train_step(features_batch=batch_features, labels_batch=batch_labels)"
   ]
  },
  {
   "cell_type": "code",
   "execution_count": 42,
   "metadata": {
    "collapsed": false
   },
   "outputs": [
    {
     "data": {
      "text/plain": [
       "[<matplotlib.lines.Line2D at 0x7f7797566a10>]"
      ]
     },
     "execution_count": 42,
     "metadata": {},
     "output_type": "execute_result"
    },
    {
     "data": {
      "image/png": "[encoded data removed]",
      "text/plain": [
       "<matplotlib.figure.Figure at 0x7f779771e350>"
      ]
     },
     "metadata": {},
     "output_type": "display_data"
    }
   ],
   "source": [
    "# plot validation accuracy\n",
    "plt.gca().set_ylim(bottom=0.95, top=1)\n",
    "plt.plot(accuracy_history)"
   ]
  },
  {
   "cell_type": "code",
   "execution_count": 27,
   "metadata": {
    "collapsed": false
   },
   "outputs": [],
   "source": [
    "# read test data\n",
    "test_features = read_features_from_csv('test.csv', usecols=None)"
   ]
  },
  {
   "cell_type": "code",
   "execution_count": 28,
   "metadata": {
    "collapsed": false
   },
   "outputs": [
    {
     "data": {
      "text/plain": [
       "<matplotlib.image.AxesImage at 0x7f778a1b5710>"
      ]
     },
     "execution_count": 28,
     "metadata": {},
     "output_type": "execute_result"
    },
    {
     "data": {
      "image/png": "[encoded data removed]",
      "text/plain": [
       "<matplotlib.figure.Figure at 0x7f77977fdbd0>"
      ]
     },
     "metadata": {},
     "output_type": "display_data"
    }
   ],
   "source": [
    "# validate one image\n",
    "test_index = 123\n",
    "plt.imshow(np.reshape(test_features[test_index], (28, 28)))"
   ]
  },
  {
   "cell_type": "code",
   "execution_count": 29,
   "metadata": {
    "collapsed": false
   },
   "outputs": [
    {
     "data": {
      "text/plain": [
       "[<matplotlib.lines.Line2D at 0x7f77ac071ad0>]"
      ]
     },
     "execution_count": 29,
     "metadata": {},
     "output_type": "execute_result"
    },
    {
     "data": {
      "image/png": "[encoded data removed]",
      "text/plain": [
       "<matplotlib.figure.Figure at 0x7f77dc2cdb50>"
      ]
     },
     "metadata": {},
     "output_type": "display_data"
    }
   ],
   "source": [
    "readout = model.get_readout([test_features[test_index]])\n",
    "plt.plot(readout[0])"
   ]
  },
  {
   "cell_type": "code",
   "execution_count": null,
   "metadata": {
    "collapsed": true
   },
   "outputs": [],
   "source": [
    "# looks right!"
   ]
  },
  {
   "cell_type": "markdown",
   "metadata": {},
   "source": [
    "#### Create Submission File"
   ]
  },
  {
   "cell_type": "code",
   "execution_count": 43,
   "metadata": {
    "collapsed": false
   },
   "outputs": [],
   "source": [
    "# run model on test data\n",
    "readout = model.get_readout(test_features)\n",
    "\n",
    "# convert softmax predictions to label\n",
    "readout = np.argmax(readout, axis=1)\n",
    "                    \n",
    "# add digit ids\n",
    "readout = [np.arange(1, 1 + len(readout)), readout]\n",
    "readout = np.transpose(readout)"
   ]
  },
  {
   "cell_type": "code",
   "execution_count": 44,
   "metadata": {
    "collapsed": true
   },
   "outputs": [],
   "source": [
    "# write to csv file\n",
    "np.savetxt('submission-deep-b.csv', readout, fmt='%i,%i', header='ImageId,Label', comments='')"
   ]
  },
  {
   "cell_type": "code",
   "execution_count": null,
   "metadata": {
    "collapsed": true
   },
   "outputs": [],
   "source": []
  }
 ],
 "metadata": {
  "kernelspec": {
   "display_name": "Python 2",
   "language": "python",
   "name": "python2"
  },
  "language_info": {
   "codemirror_mode": {
    "name": "ipython",
    "version": 2
   },
   "file_extension": ".py",
   "mimetype": "text/x-python",
   "name": "python",
   "nbconvert_exporter": "python",
   "pygments_lexer": "ipython2",
   "version": "2.7.6"
  }
 },
 "nbformat": 4,
 "nbformat_minor": 1
}
